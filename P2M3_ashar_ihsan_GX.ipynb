{
 "cells": [
  {
   "cell_type": "code",
   "execution_count": 1,
   "metadata": {},
   "outputs": [],
   "source": [
    "# Import libraries\n",
    "import pandas as pd\n",
    "import great_expectations as gx"
   ]
  },
  {
   "cell_type": "code",
   "execution_count": 2,
   "metadata": {},
   "outputs": [],
   "source": [
    "# Load datasetnya\n",
    "df = pd.read_csv(\"D:\\Hacktiv8\\Phase 2\\Week 2\\Project_M3\\dags\\P2M3_ashar_ihsan_data_clean.csv\")\n",
    "\n",
    "# Convert ke Great Expectation dataframe\n",
    "df_ge = gx.from_pandas(df)"
   ]
  },
  {
   "cell_type": "code",
   "execution_count": 4,
   "metadata": {},
   "outputs": [
    {
     "data": {
      "text/plain": [
       "{\n",
       "  \"exception_info\": {\n",
       "    \"raised_exception\": false,\n",
       "    \"exception_traceback\": null,\n",
       "    \"exception_message\": null\n",
       "  },\n",
       "  \"meta\": {},\n",
       "  \"result\": {\n",
       "    \"element_count\": 5000,\n",
       "    \"missing_count\": 0,\n",
       "    \"missing_percent\": 0.0,\n",
       "    \"unexpected_count\": 0,\n",
       "    \"unexpected_percent\": 0.0,\n",
       "    \"unexpected_percent_total\": 0.0,\n",
       "    \"unexpected_percent_nonmissing\": 0.0,\n",
       "    \"partial_unexpected_list\": []\n",
       "  },\n",
       "  \"success\": true\n",
       "}"
      ]
     },
     "execution_count": 4,
     "metadata": {},
     "output_type": "execute_result"
    }
   ],
   "source": [
    "# Expectation to be unique\n",
    "result_unique = df_ge.expect_column_values_to_be_unique(\"employee_id\")\n",
    "result_unique\n",
    "\n",
    "'''\n",
    "Expectation ini dilakukan untuk memastikan tidak ada duplikasi data dari employee yang ada didataset.\n",
    "'''\n"
   ]
  },
  {
   "cell_type": "code",
   "execution_count": 6,
   "metadata": {},
   "outputs": [
    {
     "data": {
      "text/plain": [
       "{\n",
       "  \"exception_info\": {\n",
       "    \"raised_exception\": false,\n",
       "    \"exception_traceback\": null,\n",
       "    \"exception_message\": null\n",
       "  },\n",
       "  \"meta\": {},\n",
       "  \"result\": {\n",
       "    \"element_count\": 5000,\n",
       "    \"missing_count\": 0,\n",
       "    \"missing_percent\": 0.0,\n",
       "    \"unexpected_count\": 0,\n",
       "    \"unexpected_percent\": 0.0,\n",
       "    \"unexpected_percent_total\": 0.0,\n",
       "    \"unexpected_percent_nonmissing\": 0.0,\n",
       "    \"partial_unexpected_list\": []\n",
       "  },\n",
       "  \"success\": true\n",
       "}"
      ]
     },
     "execution_count": 6,
     "metadata": {},
     "output_type": "execute_result"
    }
   ],
   "source": [
    "# Expectation to be between min_value and max_value\n",
    "result_between = df_ge.expect_column_values_to_be_between(\"age\", min_value=18, max_value=65)\n",
    "result_between\n",
    "\n",
    "'''\n",
    "Usia pegawai biasanya berada dalam rentang tertentu. \n",
    "Oleh karena itu, kita ingin memastikan bahwa kolom Age \n",
    "berisi nilai antara 18 dan 65 tahun, yang merupakan \n",
    "rentang usia kerja yang wajar.\n",
    "'''"
   ]
  },
  {
   "cell_type": "code",
   "execution_count": 8,
   "metadata": {},
   "outputs": [
    {
     "data": {
      "text/plain": [
       "{\n",
       "  \"exception_info\": {\n",
       "    \"raised_exception\": false,\n",
       "    \"exception_traceback\": null,\n",
       "    \"exception_message\": null\n",
       "  },\n",
       "  \"meta\": {},\n",
       "  \"result\": {\n",
       "    \"element_count\": 5000,\n",
       "    \"missing_count\": 0,\n",
       "    \"missing_percent\": 0.0,\n",
       "    \"unexpected_count\": 0,\n",
       "    \"unexpected_percent\": 0.0,\n",
       "    \"unexpected_percent_total\": 0.0,\n",
       "    \"unexpected_percent_nonmissing\": 0.0,\n",
       "    \"partial_unexpected_list\": []\n",
       "  },\n",
       "  \"success\": true\n",
       "}"
      ]
     },
     "execution_count": 8,
     "metadata": {},
     "output_type": "execute_result"
    }
   ],
   "source": [
    "# Expectation to be in set\n",
    "result_in_set = df_ge.expect_column_values_to_be_in_set(\"gender\", [\"Male\", \"Female\", \"Non-binary\", \"Prefer not to say\"])\n",
    "result_in_set\n",
    "\n",
    "'''\n",
    "Kolom Gender seharusnya hanya memiliki beberapa pilihan yang valid,\n",
    "seperti \"Male\", \"Female\", \"Non-binary\", ataupun yang memilih untuk tidak mengisi. \n",
    "Jika ditemukan nilai selain ini, hal tersebut bisa menandakan kesalahan pada data.\n",
    "'''\n"
   ]
  },
  {
   "cell_type": "code",
   "execution_count": 11,
   "metadata": {},
   "outputs": [
    {
     "data": {
      "text/plain": [
       "{\n",
       "  \"exception_info\": {\n",
       "    \"raised_exception\": false,\n",
       "    \"exception_traceback\": null,\n",
       "    \"exception_message\": null\n",
       "  },\n",
       "  \"meta\": {},\n",
       "  \"result\": {\n",
       "    \"observed_value\": \"int64\"\n",
       "  },\n",
       "  \"success\": true\n",
       "}"
      ]
     },
     "execution_count": 11,
     "metadata": {},
     "output_type": "execute_result"
    }
   ],
   "source": [
    "# Expectation to be in type list\n",
    "result_type = df_ge.expect_column_values_to_be_of_type(\"years_of_experience\", \"int64\")\n",
    "result_type\n",
    "\n",
    "'''\n",
    "Penting untuk memastikan bahwa data yang disimpan dalam kolom tertentu\n",
    "memiliki tipe data yang sesuai. Misalnya, kolom Years_of_Experience \n",
    "seharusnya berisi integer karena ini merepresentasikan jumlah tahun.\n",
    "Jika terdapat tipe data lain, ini bisa menjadi indikasi kesalahan input.\n",
    "'''"
   ]
  },
  {
   "cell_type": "code",
   "execution_count": 12,
   "metadata": {},
   "outputs": [
    {
     "data": {
      "text/plain": [
       "{\n",
       "  \"exception_info\": {\n",
       "    \"raised_exception\": false,\n",
       "    \"exception_traceback\": null,\n",
       "    \"exception_message\": null\n",
       "  },\n",
       "  \"meta\": {},\n",
       "  \"result\": {\n",
       "    \"element_count\": 5000,\n",
       "    \"unexpected_count\": 0,\n",
       "    \"unexpected_percent\": 0.0,\n",
       "    \"unexpected_percent_total\": 0.0,\n",
       "    \"partial_unexpected_list\": []\n",
       "  },\n",
       "  \"success\": true\n",
       "}"
      ]
     },
     "execution_count": 12,
     "metadata": {},
     "output_type": "execute_result"
    }
   ],
   "source": [
    "# Expectation to not contain null values\n",
    "result_not_null = df_ge.expect_column_values_to_not_be_null(\"job_role\")\n",
    "result_not_null\n",
    "\n",
    "'''\n",
    "Kolom Job_Role mendeskripsikan peran pekerjaan dari setiap karyawan,\n",
    "dan seharusnya tidak ada nilai yang kosong karena setiap karyawan \n",
    "pasti memiliki job role.\n",
    "'''"
   ]
  },
  {
   "cell_type": "code",
   "execution_count": 17,
   "metadata": {},
   "outputs": [
    {
     "data": {
      "text/plain": [
       "{\n",
       "  \"exception_info\": {\n",
       "    \"raised_exception\": false,\n",
       "    \"exception_traceback\": null,\n",
       "    \"exception_message\": null\n",
       "  },\n",
       "  \"meta\": {},\n",
       "  \"result\": {\n",
       "    \"element_count\": 5000,\n",
       "    \"missing_count\": 0,\n",
       "    \"missing_percent\": 0.0,\n",
       "    \"unexpected_count\": 0,\n",
       "    \"unexpected_percent\": 0.0,\n",
       "    \"unexpected_percent_total\": 0.0,\n",
       "    \"unexpected_percent_nonmissing\": 0.0,\n",
       "    \"partial_unexpected_list\": []\n",
       "  },\n",
       "  \"success\": true\n",
       "}"
      ]
     },
     "execution_count": 17,
     "metadata": {},
     "output_type": "execute_result"
    }
   ],
   "source": [
    "# Expectation to match regex\n",
    "result_regex = df_ge.expect_column_values_to_match_regex(\"employee_id\", r\"^EMP\\d+$\")\n",
    "result_regex\n",
    "\n",
    "'''\n",
    "Kolom Employee_ID memiliki pola yang jelas, yaitu kombinasi string \"EMP\" dan angka. \n",
    "Expectation ini digunakan untuk memastikan bahwa semua nilai di kolom Employee_ID \n",
    "sesuai dengan pola yang benar (contoh: \"EMP0001\") dan seterusnya.\n",
    "'''"
   ]
  },
  {
   "cell_type": "code",
   "execution_count": 18,
   "metadata": {},
   "outputs": [
    {
     "data": {
      "text/plain": [
       "{\n",
       "  \"exception_info\": {\n",
       "    \"raised_exception\": false,\n",
       "    \"exception_traceback\": null,\n",
       "    \"exception_message\": null\n",
       "  },\n",
       "  \"meta\": {},\n",
       "  \"result\": {\n",
       "    \"element_count\": 5000,\n",
       "    \"missing_count\": 0,\n",
       "    \"missing_percent\": 0.0,\n",
       "    \"unexpected_count\": 0,\n",
       "    \"unexpected_percent\": 0.0,\n",
       "    \"unexpected_percent_total\": 0.0,\n",
       "    \"unexpected_percent_nonmissing\": 0.0,\n",
       "    \"partial_unexpected_list\": []\n",
       "  },\n",
       "  \"success\": true\n",
       "}"
      ]
     },
     "execution_count": 18,
     "metadata": {},
     "output_type": "execute_result"
    }
   ],
   "source": [
    "# Expectation to have a specific length\n",
    "result_length = df_ge.expect_column_value_lengths_to_equal(\"employee_id\", 7)\n",
    "result_length\n",
    "\n",
    "'''\n",
    "Dalam beberapa situasi, panjang data teks penting untuk validasi. \n",
    "Misalnya, kita bisa memastikan bahwa Employee_ID harus selalu \n",
    "memiliki panjang tepat 7 karakter.\n",
    "'''"
   ]
  }
 ],
 "metadata": {
  "kernelspec": {
   "display_name": "base_2",
   "language": "python",
   "name": "python3"
  },
  "language_info": {
   "codemirror_mode": {
    "name": "ipython",
    "version": 3
   },
   "file_extension": ".py",
   "mimetype": "text/x-python",
   "name": "python",
   "nbconvert_exporter": "python",
   "pygments_lexer": "ipython3",
   "version": "3.9.20"
  }
 },
 "nbformat": 4,
 "nbformat_minor": 2
}
